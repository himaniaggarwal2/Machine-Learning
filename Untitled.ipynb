{
 "cells": [
  {
   "cell_type": "code",
   "execution_count": 1,
   "metadata": {},
   "outputs": [],
   "source": [
    "#MINI CALCULATOR"
   ]
  },
  {
   "cell_type": "code",
   "execution_count": 5,
   "metadata": {},
   "outputs": [],
   "source": [
    "# MINI CALCULATOR"
   ]
  },
  {
   "cell_type": "code",
   "execution_count": 12,
   "metadata": {},
   "outputs": [
    {
     "name": "stdout",
     "output_type": "stream",
     "text": [
      "MINI CALCULATOR\n",
      "1.Addition \n",
      "2.subtraction \n",
      "3. multiplication \n",
      "4.division\n",
      "Enter your choice:5\n",
      "Enter your first number1\n",
      "Enter your second number2\n",
      "invalid input\n"
     ]
    }
   ],
   "source": [
    "print(\"MINI CALCULATOR\")\n",
    "print(\"1.Addition \\n2.subtraction \\n3. multiplication \\n4.division\")\n",
    "x=int(input(\"Enter your choice:\"))\n",
    "a=int(input(\"Enter your first number\"))\n",
    "b=int(input(\"Enter your second number\"))\n",
    "if x==1:\n",
    "    print(a+b)\n",
    "elif x==2:\n",
    "    print(a-b)\n",
    "elif x==3:\n",
    "    print(a*b)\n",
    "elif x==4:\n",
    "    print(a/b)\n",
    "else:\n",
    "    print(\"invalid input\")\n",
    "    exit()"
   ]
  },
  {
   "cell_type": "code",
   "execution_count": 2,
   "metadata": {},
   "outputs": [
    {
     "name": "stdout",
     "output_type": "stream",
     "text": [
      "radius of circle5\n",
      "78.5\n"
     ]
    }
   ],
   "source": [
    "# AREA OF CIRCLE\n",
    "r=float(input(\"radius of circle\"))\n",
    "print(3.14*r*r)"
   ]
  },
  {
   "cell_type": "code",
   "execution_count": 5,
   "metadata": {},
   "outputs": [],
   "source": [
    "#TABLE OF ANY NUMBER"
   ]
  },
  {
   "cell_type": "code",
   "execution_count": 6,
   "metadata": {},
   "outputs": [
    {
     "name": "stdout",
     "output_type": "stream",
     "text": [
      "5\n",
      "5\n",
      "10\n",
      "15\n",
      "20\n",
      "25\n",
      "30\n",
      "35\n",
      "40\n",
      "45\n",
      "50\n"
     ]
    }
   ],
   "source": [
    "q=int(input())\n",
    "for i in range(1,11):\n",
    "    print(i*q)"
   ]
  },
  {
   "cell_type": "code",
   "execution_count": null,
   "metadata": {},
   "outputs": [],
   "source": []
  }
 ],
 "metadata": {
  "kernelspec": {
   "display_name": "Python 3",
   "language": "python",
   "name": "python3"
  },
  "language_info": {
   "codemirror_mode": {
    "name": "ipython",
    "version": 3
   },
   "file_extension": ".py",
   "mimetype": "text/x-python",
   "name": "python",
   "nbconvert_exporter": "python",
   "pygments_lexer": "ipython3",
   "version": "3.7.7"
  }
 },
 "nbformat": 4,
 "nbformat_minor": 4
}
