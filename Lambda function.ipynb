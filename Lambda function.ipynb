{
 "cells": [
  {
   "cell_type": "markdown",
   "metadata": {},
   "source": [
    "# Lambda functions"
   ]
  },
  {
   "cell_type": "markdown",
   "metadata": {},
   "source": [
    "A lambda function is a small anonymous function. - A lambda function can take any number of arguments, but can only have one\n",
    "expression. In Python, anonymous function means that a function is without a name. As we already know that def keyword is used\n",
    "to define the normal functions and the lambda keyword is used to create anonymous functions. It has the following syntax:\n",
    "                        \n",
    "                                lambda arguments: expression\n",
    "        \n",
    "1. This function can have any number of arguments but only one expression, which is evaluated and returned.\n",
    "2. One is free to use lambda functions wherever function objects are required.\n",
    "3. You need to keep in your knowledge that lambda functions are syntactically restricted to a single expression.\n",
    "4. It has various uses in particular fields of programming besides other types of expressions in functions.\n",
    "A lambda function that adds 10 to the number passed in as an argument, and print the result:"
   ]
  },
  {
   "cell_type": "code",
   "execution_count": 2,
   "metadata": {},
   "outputs": [
    {
     "name": "stdout",
     "output_type": "stream",
     "text": [
      "15\n"
     ]
    }
   ],
   "source": [
    "x = lambda a : a + 10\n",
    "print (x(5))"
   ]
  },
  {
   "cell_type": "code",
   "execution_count": 3,
   "metadata": {},
   "outputs": [
    {
     "name": "stdout",
     "output_type": "stream",
     "text": [
      "30\n"
     ]
    }
   ],
   "source": [
    "x = lambda a, b : a * b\n",
    "print (x(5, 6))"
   ]
  },
  {
   "cell_type": "code",
   "execution_count": 4,
   "metadata": {},
   "outputs": [
    {
     "name": "stdout",
     "output_type": "stream",
     "text": [
      "13\n"
     ]
    }
   ],
   "source": [
    "x = lambda a, b, c : a + b + c\n",
    "print (x(5, 6, 2))"
   ]
  },
  {
   "cell_type": "code",
   "execution_count": 5,
   "metadata": {},
   "outputs": [],
   "source": [
    "# Python code to illustrate cube of a number\n",
    "# showing difference between def() and lambda().\n",
    "def cube(y):\n",
    "    return y*y*y;"
   ]
  },
  {
   "cell_type": "code",
   "execution_count": 6,
   "metadata": {},
   "outputs": [],
   "source": [
    "g = lambda x: x*x*x"
   ]
  },
  {
   "cell_type": "code",
   "execution_count": 7,
   "metadata": {},
   "outputs": [
    {
     "name": "stdout",
     "output_type": "stream",
     "text": [
      "Result from normal def function: 343\n",
      "Result from lambda function: 125\n"
     ]
    }
   ],
   "source": [
    "print (\"Result from normal def function: %s\" %(g(7)))\n",
    "print (\"Result from lambda function: %s\" %(cube(5)))"
   ]
  },
  {
   "cell_type": "markdown",
   "metadata": {},
   "source": [
    "Without using Lambda : Here, both of them returns the cube of a given number. But, while using def, we needed to define a\n",
    "function with a name cube and needed to pass a value to it. After execution, we also needed to return the result from where\n",
    "the function was called using the return keyword.\n",
    "Using Lambda : Lambda definition does not include a “return” statement, it always contains an expression which is returned.\n",
    "We can also put a lambda definition anywhere a function is expected, and we don’t have to assign it to a variable at all. This is\n",
    "the simplicity of lambda functions."
   ]
  },
  {
   "cell_type": "markdown",
   "metadata": {},
   "source": [
    "# Use of lambda() with filter()\n",
    "The filter() function in Python takes in a function and a list as arguments. This offers an elegant way to filter out all the elements of\n",
    "a sequence “sequence”, for which the function returns True. Here is a small program that returns the odd numbers from an input\n",
    "list:"
   ]
  },
  {
   "cell_type": "code",
   "execution_count": 8,
   "metadata": {},
   "outputs": [
    {
     "name": "stdout",
     "output_type": "stream",
     "text": [
      "[5, 7, 97, 77, 23, 73, 61]\n"
     ]
    }
   ],
   "source": [
    "# Python code to illustrate\n",
    "# filter() with lambda()\n",
    "li = [5, 7, 22, 97, 54, 62, 77, 23, 73, 61]\n",
    "final_list = list(filter(lambda x: (x%2 != 0) , li))\n",
    "print(final_list)"
   ]
  },
  {
   "cell_type": "markdown",
   "metadata": {},
   "source": [
    "# Use of lambda() with map()\n",
    "The map() function in Python takes in a function and a list as argument. The function is called with a lambda function and a list and\n",
    "a new list is returned which contains all the lambda modified items returned by that function for each item. Example:"
   ]
  },
  {
   "cell_type": "code",
   "execution_count": 9,
   "metadata": {},
   "outputs": [
    {
     "name": "stdout",
     "output_type": "stream",
     "text": [
      "[10, 14, 44, 194, 108, 124, 154, 46, 146, 122]\n"
     ]
    }
   ],
   "source": [
    "# Python code to illustrate\n",
    "# map() with lambda()\n",
    "# to get double of a list.\n",
    "li = [5, 7, 22, 97, 54, 62, 77, 23, 73, 61]\n",
    "final_list = list(map(lambda x: x*2 , li))\n",
    "print(final_list)"
   ]
  },
  {
   "cell_type": "markdown",
   "metadata": {},
   "source": [
    "# Use of lambda() with reduce()\n",
    "The reduce() function in Python takes in a function and a list as argument. The function is called with a lambda function and a list\n",
    "and a new reduced result is returned. This performs a repetitive operation over the pairs of the list. This is a part of functools\n",
    "module. Example:"
   ]
  },
  {
   "cell_type": "code",
   "execution_count": null,
   "metadata": {},
   "outputs": [],
   "source": []
  }
 ],
 "metadata": {
  "kernelspec": {
   "display_name": "Python 3",
   "language": "python",
   "name": "python3"
  },
  "language_info": {
   "codemirror_mode": {
    "name": "ipython",
    "version": 3
   },
   "file_extension": ".py",
   "mimetype": "text/x-python",
   "name": "python",
   "nbconvert_exporter": "python",
   "pygments_lexer": "ipython3",
   "version": "3.7.3"
  }
 },
 "nbformat": 4,
 "nbformat_minor": 2
}
