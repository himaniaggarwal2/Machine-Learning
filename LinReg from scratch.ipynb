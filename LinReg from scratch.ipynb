{
 "cells": [
  {
   "cell_type": "code",
   "execution_count": 3,
   "metadata": {},
   "outputs": [],
   "source": [
    "import numpy as np\n",
    "import pandas as pd"
   ]
  },
  {
   "cell_type": "code",
   "execution_count": 5,
   "metadata": {},
   "outputs": [],
   "source": [
    "data= pd.read_csv(\"SaratogaHouses.csv\")"
   ]
  },
  {
   "cell_type": "code",
   "execution_count": 7,
   "metadata": {},
   "outputs": [],
   "source": [
    "X = data['livingArea'].values #x axis kiske respect main \n",
    "y = data['price'].values#y axis"
   ]
  },
  {
   "cell_type": "code",
   "execution_count": 8,
   "metadata": {},
   "outputs": [
    {
     "data": {
      "text/plain": [
       "(1728,)"
      ]
     },
     "execution_count": 8,
     "metadata": {},
     "output_type": "execute_result"
    }
   ],
   "source": [
    "X.shape"
   ]
  },
  {
   "cell_type": "code",
   "execution_count": 10,
   "metadata": {},
   "outputs": [],
   "source": [
    "from sklearn import model_selection\n",
    "X_train, X_test, y_train, y_test= model_selection.train_test_split(X,y, test_size= 0.3)"
   ]
  },
  {
   "cell_type": "code",
   "execution_count": 11,
   "metadata": {},
   "outputs": [
    {
     "data": {
      "text/plain": [
       "(1209,)"
      ]
     },
     "execution_count": 11,
     "metadata": {},
     "output_type": "execute_result"
    }
   ],
   "source": [
    "X_train.shape"
   ]
  },
  {
   "cell_type": "code",
   "execution_count": 14,
   "metadata": {},
   "outputs": [],
   "source": [
    "def fit (X_train, y_train):\n",
    "    num = (X_train * y_train).mean() - X_train.mean()* y_train.mean()\n",
    "    den = (X_train **2).mean() - (X_train.mean())**2\n",
    "    m = num/den\n",
    "    c = y_train.mean() - m* X_train.mean()#y depends upon x \n",
    "    return m,c"
   ]
  },
  {
   "cell_type": "code",
   "execution_count": 23,
   "metadata": {},
   "outputs": [],
   "source": [
    "def predict(X, m, c):\n",
    "    return m*X + c\n",
    "def score(y_truth, y_pred):\n",
    "    u = ((y_truth - y_pred)**2).sum()\n",
    "    v = ((y_truth - y_truth.mean())**2).sum()\n",
    "    return 1-u/v\n",
    "\n",
    "def cost(X, y, m, c):\n",
    "    return ((y- m*X - c)**2).mean()\n",
    "    "
   ]
  },
  {
   "cell_type": "code",
   "execution_count": 25,
   "metadata": {},
   "outputs": [
    {
     "name": "stdout",
     "output_type": "stream",
     "text": [
      "test score:  0.4817170551888148\n",
      "train score:  0.5186837482237829\n",
      "M, C:  110.1927417100182 18314.26259800291\n",
      "Cost on training data:  4446587563.491446\n",
      "Cost on training data:  4449992177.158939\n"
     ]
    }
   ],
   "source": [
    "m,c = fit(X_train, y_train)\n",
    "y_test_pred = predict(X_test, m, c)\n",
    "print(\"test score: \", score(y_test, y_test_pred))\n",
    "\n",
    "y_train_pred = predict(X_train, m, c)\n",
    "print(\"train score: \", score(y_train, y_train_pred))\n",
    "\n",
    "print(\"M, C: \", m, c)\n",
    "print(\"Cost on training data: \", cost(X_train, y_train, m, c))\n",
    "print(\"Cost on training data: \", cost(X_train, y_train, m + 1, c))"
   ]
  },
  {
   "cell_type": "code",
   "execution_count": null,
   "metadata": {},
   "outputs": [],
   "source": []
  },
  {
   "cell_type": "code",
   "execution_count": null,
   "metadata": {},
   "outputs": [],
   "source": []
  }
 ],
 "metadata": {
  "kernelspec": {
   "display_name": "Python 3",
   "language": "python",
   "name": "python3"
  },
  "language_info": {
   "codemirror_mode": {
    "name": "ipython",
    "version": 3
   },
   "file_extension": ".py",
   "mimetype": "text/x-python",
   "name": "python",
   "nbconvert_exporter": "python",
   "pygments_lexer": "ipython3",
   "version": "3.7.7"
  }
 },
 "nbformat": 4,
 "nbformat_minor": 2
}
