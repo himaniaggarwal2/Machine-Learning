{
 "cells": [
  {
   "cell_type": "code",
   "execution_count": 1,
   "metadata": {},
   "outputs": [],
   "source": [
    "#TOWER OF HANOI"
   ]
  },
  {
   "cell_type": "code",
   "execution_count": 5,
   "metadata": {},
   "outputs": [
    {
     "name": "stdout",
     "output_type": "stream",
     "text": [
      "moving disk from A to C\n",
      "moving disk from A to B\n",
      "moving disk from C to B\n",
      "moving disk from A to C\n",
      "moving disk from B to A\n",
      "moving disk from B to C\n",
      "moving disk from A to C\n",
      "moving disk from A to B\n",
      "moving disk from C to B\n",
      "moving disk from C to A\n",
      "moving disk from B to A\n",
      "moving disk from C to B\n",
      "moving disk from A to C\n",
      "moving disk from A to B\n",
      "moving disk from C to B\n"
     ]
    }
   ],
   "source": [
    "def moveTower(n,APole,BPole,CPole):\n",
    "    if n>=1:\n",
    "        moveTower(n-1, APole,CPole,BPole)\n",
    "        moveDisk(APole,BPole)\n",
    "        moveTower(n-1, CPole,BPole,APole)\n",
    "        \n",
    "def moveDisk(firstpole, thirdpole):\n",
    "    print(\"moving disk from\",firstpole,\"to\",thirdpole)\n",
    "\n",
    "moveTower(4,\"A\",\"B\",\"C\")"
   ]
  },
  {
   "cell_type": "code",
   "execution_count": 6,
   "metadata": {},
   "outputs": [],
   "source": [
    "#Bubble Sort"
   ]
  },
  {
   "cell_type": "code",
   "execution_count": 7,
   "metadata": {},
   "outputs": [
    {
     "name": "stdout",
     "output_type": "stream",
     "text": [
      "Sorted array is:\n",
      "1\n",
      "2\n",
      "6\n",
      "7\n",
      "8\n",
      "9\n",
      "10\n"
     ]
    }
   ],
   "source": [
    "def bubbleSort(arr): \n",
    "    n = len(arr) \n",
    "\n",
    "    for i in range(n-1): \n",
    "        for j in range(0, n-i-1): \n",
    "            if arr[j] > arr[j+1] : \n",
    "                arr[j], arr[j+1] = arr[j+1], arr[j] \n",
    "   \n",
    "arr = [6, 7, 2, 1, 8, 10, 9] \n",
    "  \n",
    "bubbleSort(arr) \n",
    "  \n",
    "print (\"Sorted array is:\") \n",
    "for i in range(len(arr)): \n",
    "    print (\"%d\" %arr[i]),  "
   ]
  },
  {
   "cell_type": "code",
   "execution_count": 8,
   "metadata": {},
   "outputs": [],
   "source": [
    "#Selection Sort"
   ]
  },
  {
   "cell_type": "code",
   "execution_count": 9,
   "metadata": {},
   "outputs": [
    {
     "name": "stdout",
     "output_type": "stream",
     "text": [
      "Sorted array\n",
      "1\n",
      "2\n",
      "6\n",
      "7\n",
      "8\n",
      "9\n",
      "10\n"
     ]
    }
   ],
   "source": [
    "import sys \n",
    "A = [6, 7, 2, 1, 8, 10, 9] \n",
    "  \n",
    "for i in range(len(A)): \n",
    "    min_idx = i \n",
    "    for j in range(i+1, len(A)): \n",
    "        if A[min_idx] > A[j]: \n",
    "            min_idx = j \n",
    "        \n",
    "    A[i], A[min_idx] = A[min_idx], A[i] \n",
    "   \n",
    "print (\"Sorted array\") \n",
    "for i in range(len(A)): \n",
    "    print(\"%d\" %A[i]),  "
   ]
  },
  {
   "cell_type": "code",
   "execution_count": 10,
   "metadata": {},
   "outputs": [],
   "source": [
    "#Insertion Sort"
   ]
  },
  {
   "cell_type": "code",
   "execution_count": 11,
   "metadata": {},
   "outputs": [
    {
     "name": "stdout",
     "output_type": "stream",
     "text": [
      " 5\n",
      " 6\n",
      " 11\n",
      " 12\n",
      " 13\n"
     ]
    }
   ],
   "source": [
    "def insertionSort(arr): \n",
    "    for i in range(1, len(arr)): \n",
    "  \n",
    "        key = arr[i] \n",
    "        j = i-1\n",
    "        while j >= 0 and key < arr[j] : \n",
    "                arr[j + 1] = arr[j] \n",
    "                j -= 1\n",
    "        arr[j + 1] = key \n",
    "  \n",
    "arr = [12, 11, 13, 5, 6] \n",
    "insertionSort(arr) \n",
    "for i in range(len(arr)): \n",
    "    print (\"% d\" % arr[i]) \n",
    "  "
   ]
  },
  {
   "cell_type": "code",
   "execution_count": 12,
   "metadata": {},
   "outputs": [],
   "source": [
    "#merge Sort"
   ]
  },
  {
   "cell_type": "code",
   "execution_count": 17,
   "metadata": {},
   "outputs": [
    {
     "name": "stdout",
     "output_type": "stream",
     "text": [
      "Given array is\n",
      "12 11 13 5 6 7 \n",
      "Sorted array is: \n",
      "5 6 7 11 12 13 \n"
     ]
    }
   ],
   "source": [
    "def mergeSort(arr): \n",
    "    if len(arr) >1: \n",
    "        mid = len(arr)//2 \n",
    "        L = arr[:mid] # Dividing the array elements  \n",
    "        R = arr[mid:] # into 2 halves \n",
    "  \n",
    "        mergeSort(L) # Sorting the first half \n",
    "        mergeSort(R) # Sorting the second half \n",
    "  \n",
    "        i = j = k = 0\n",
    "          \n",
    "        # Copy data to temp arrays L[] and R[] \n",
    "        while i < len(L) and j < len(R): \n",
    "            if L[i] < R[j]: \n",
    "                arr[k] = L[i] \n",
    "                i+=1\n",
    "            else: \n",
    "                arr[k] = R[j] \n",
    "                j+=1\n",
    "            k+=1\n",
    "          \n",
    "        # Checking if any element was left \n",
    "        while i < len(L): \n",
    "            arr[k] = L[i] \n",
    "            i+=1\n",
    "            k+=1\n",
    "          \n",
    "        while j < len(R): \n",
    "            arr[k] = R[j] \n",
    "            j+=1\n",
    "            k+=1\n",
    "  \n",
    "def printList(arr): \n",
    "    for i in range(len(arr)):         \n",
    "        print(arr[i],end=\" \") \n",
    "    print() \n",
    "  \n",
    "if __name__ == '__main__': \n",
    "    arr = [12, 11, 13, 5, 6, 7]  \n",
    "    print (\"Given array is\", end=\"\\n\")  \n",
    "    printList(arr) \n",
    "    mergeSort(arr) \n",
    "    print(\"Sorted array is: \", end=\"\\n\") \n",
    "    printList(arr) "
   ]
  },
  {
   "cell_type": "code",
   "execution_count": 18,
   "metadata": {},
   "outputs": [],
   "source": [
    "#Armstrong Number"
   ]
  },
  {
   "cell_type": "code",
   "execution_count": 19,
   "metadata": {},
   "outputs": [
    {
     "name": "stdout",
     "output_type": "stream",
     "text": [
      "Enter a number: 663\n",
      "663 is not an Armstrong number\n"
     ]
    }
   ],
   "source": [
    "num = int(input(\"Enter a number: \"))\n",
    "\n",
    "sum = 0\n",
    "\n",
    "temp = num\n",
    "while temp > 0:\n",
    "   digit = temp % 10\n",
    "   sum += digit ** 3\n",
    "   temp //= 10\n",
    "\n",
    "if num == sum:\n",
    "   print(num,\"is an Armstrong number\")\n",
    "else:\n",
    "   print(num,\"is not an Armstrong number\")"
   ]
  },
  {
   "cell_type": "code",
   "execution_count": null,
   "metadata": {},
   "outputs": [],
   "source": []
  }
 ],
 "metadata": {
  "kernelspec": {
   "display_name": "Python 3",
   "language": "python",
   "name": "python3"
  },
  "language_info": {
   "codemirror_mode": {
    "name": "ipython",
    "version": 3
   },
   "file_extension": ".py",
   "mimetype": "text/x-python",
   "name": "python",
   "nbconvert_exporter": "python",
   "pygments_lexer": "ipython3",
   "version": "3.7.7"
  }
 },
 "nbformat": 4,
 "nbformat_minor": 4
}
