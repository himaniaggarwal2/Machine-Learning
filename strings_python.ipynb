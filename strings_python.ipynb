{
 "cells": [
  {
   "cell_type": "code",
   "execution_count": 1,
   "metadata": {},
   "outputs": [
    {
     "name": "stdout",
     "output_type": "stream",
     "text": [
      "12\n",
      "e\n",
      "d\n",
      "HelloAnjali\n",
      "Hello Anjali\n",
      "False\n",
      "HELLO WORLD!\n",
      "Wonder\n",
      "himani\n",
      "himani\n"
     ]
    }
   ],
   "source": [
    "myString = \"Hello World!\"\n",
    "\n",
    "# Print length of string\n",
    "print(len(myString))\n",
    "\n",
    "# Access string elements by array-like indexing\n",
    "print(myString[1])\n",
    "\n",
    "# Negative indices to access string elements\n",
    "print(myString[-2])\n",
    "\n",
    "# Concatenating two strings\n",
    "string1 = \"Hello\"\n",
    "string2 = \"Anjali\"\n",
    "\n",
    "print(string1 + string2)\n",
    "print(string1 + \" \" + string2)\n",
    "\n",
    "# Triple quotes for strings\n",
    "bigString = \"\"\"Hi. My name is Sam.\n",
    "               I like to play chess.\"\"\"\n",
    "\n",
    "\n",
    "# Check if a character is present within a string\n",
    "print('x' in myString)\n",
    "\n",
    "\n",
    "# Convert string to upper-case\n",
    "myStringUpper = myString.upper()\n",
    "print(myStringUpper)\n",
    "\n",
    "\n",
    "# Replace an element of a string\n",
    "notMyString = \"Wonger\"\n",
    "isMyString = notMyString.replace('g','d')\n",
    "print(isMyString)\n",
    "\n",
    "\n",
    "# Take input from user and print it\n",
    "newString = input()\n",
    "print(newString)\n"
   ]
  },
  {
   "cell_type": "code",
   "execution_count": null,
   "metadata": {},
   "outputs": [],
   "source": []
  }
 ],
 "metadata": {
  "kernelspec": {
   "display_name": "Python 3",
   "language": "python",
   "name": "python3"
  },
  "language_info": {
   "codemirror_mode": {
    "name": "ipython",
    "version": 3
   },
   "file_extension": ".py",
   "mimetype": "text/x-python",
   "name": "python",
   "nbconvert_exporter": "python",
   "pygments_lexer": "ipython3",
   "version": "3.7.7"
  }
 },
 "nbformat": 4,
 "nbformat_minor": 4
}
